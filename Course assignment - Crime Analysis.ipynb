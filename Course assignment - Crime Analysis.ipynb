{
 "cells": [
  {
   "cell_type": "code",
   "execution_count": 48,
   "metadata": {
    "collapsed": false
   },
   "outputs": [],
   "source": [
    "dfSF = read.csv('F:/GitHub Repos/datasci_course_materials/assignment6/sanfrancisco_incidents_summer_2014.csv',head=TRUE,sep=\",\")"
   ]
  },
  {
   "cell_type": "code",
   "execution_count": 3,
   "metadata": {
    "collapsed": false
   },
   "outputs": [
    {
     "data": {
      "text/plain": [
       "   IncidntNum                  Category                            Descript    \n",
       " Min.   : 10284385   LARCENY/THEFT :9466   GRAND THEFT FROM LOCKED AUTO: 3766  \n",
       " 1st Qu.:140545607   OTHER OFFENSES:3567   STOLEN AUTOMOBILE           : 1350  \n",
       " Median :140632022   NON-CRIMINAL  :3023   LOST PROPERTY               : 1202  \n",
       " Mean   :142017280   ASSAULT       :2882   PETTY THEFT OF PROPERTY     : 1125  \n",
       " 3rd Qu.:140719664   VEHICLE THEFT :1966   WARRANT ARREST              :  980  \n",
       " Max.   :990367398   WARRANTS      :1782   PETTY THEFT FROM LOCKED AUTO:  955  \n",
       "                     (Other)       :6307   (Other)                     :19615  \n",
       "     DayOfWeek            Date            Time           PdDistrict  \n",
       " Friday   :4451   06/28/2014:  410   12:00  :  784   SOUTHERN :5739  \n",
       " Monday   :4005   08/09/2014:  410   00:01  :  661   MISSION  :3700  \n",
       " Saturday :4319   08/08/2014:  403   18:00  :  649   NORTHERN :3589  \n",
       " Sunday   :4218   06/29/2014:  397   19:00  :  621   CENTRAL  :3513  \n",
       " Thursday :3968   08/29/2014:  388   17:00  :  594   BAYVIEW  :2725  \n",
       " Tuesday  :3930   06/04/2014:  380   20:00  :  586   INGLESIDE:2378  \n",
       " Wednesday:4102   (Other)   :26605   (Other):25098   (Other)  :7349  \n",
       "           Resolution                        Address            X         \n",
       " NONE           :19139   800 Block of BRYANT ST  :  948   Min.   :-122.5  \n",
       " ARREST, BOOKED : 6502   800 Block of MARKET ST  :  288   1st Qu.:-122.4  \n",
       " ARREST, CITED  : 1419   900 Block of POTRERO AV :  230   Median :-122.4  \n",
       " LOCATED        : 1042   1000 Block of POTRERO AV:  199   Mean   :-122.4  \n",
       " UNFOUNDED      :  260   2000 Block of MISSION ST:  149   3rd Qu.:-122.4  \n",
       " JUVENILE BOOKED:  163   16TH ST / MISSION ST    :  116   Max.   :-122.4  \n",
       " (Other)        :  468   (Other)                 :27063                   \n",
       "       Y                                          Location    \n",
       " Min.   :37.71   (37.775420706711, -122.403404791479) :  940  \n",
       " 1st Qu.:37.76   (37.7571580431915, -122.406604919508):  224  \n",
       " Median :37.78   (37.7564864109309, -122.406539115148):  196  \n",
       " Mean   :37.77   (37.7650501214668, -122.419671780296):  152  \n",
       " 3rd Qu.:37.79   (37.7841893501425, -122.407633520742):  150  \n",
       " Max.   :37.82   (37.7285280627465, -122.475647460786):  102  \n",
       "                 (Other)                              :27229  \n",
       "      PdId          \n",
       " Min.   :1.028e+12  \n",
       " 1st Qu.:1.405e+13  \n",
       " Median :1.406e+13  \n",
       " Mean   :1.420e+13  \n",
       " 3rd Qu.:1.407e+13  \n",
       " Max.   :9.904e+13  \n",
       "                    "
      ]
     },
     "execution_count": 3,
     "metadata": {},
     "output_type": "execute_result"
    }
   ],
   "source": [
    "summary(df)"
   ]
  },
  {
   "cell_type": "code",
   "execution_count": 4,
   "metadata": {
    "collapsed": false
   },
   "outputs": [
    {
     "ename": "ERROR",
     "evalue": "Error in library(ggplot2): there is no package called 'ggplot2'\n",
     "output_type": "error",
     "traceback": [
      "Error in library(ggplot2): there is no package called 'ggplot2'\n"
     ]
    }
   ],
   "source": [
    "library(ggplot2)"
   ]
  },
  {
   "cell_type": "code",
   "execution_count": 6,
   "metadata": {
    "collapsed": false
   },
   "outputs": [
    {
     "name": "stderr",
     "output_type": "stream",
     "text": [
      "also installing the dependencies 'colorspace', 'Rcpp', 'RColorBrewer', 'dichromat', 'munsell', 'labeling', 'gtable', 'plyr', 'reshape2', 'scales'\n",
      "\n"
     ]
    },
    {
     "name": "stdout",
     "output_type": "stream",
     "text": [
      "package 'colorspace' successfully unpacked and MD5 sums checked\n",
      "package 'Rcpp' successfully unpacked and MD5 sums checked\n",
      "package 'RColorBrewer' successfully unpacked and MD5 sums checked\n",
      "package 'dichromat' successfully unpacked and MD5 sums checked\n",
      "package 'munsell' successfully unpacked and MD5 sums checked\n",
      "package 'labeling' successfully unpacked and MD5 sums checked\n",
      "package 'gtable' successfully unpacked and MD5 sums checked\n",
      "package 'plyr' successfully unpacked and MD5 sums checked\n",
      "package 'reshape2' successfully unpacked and MD5 sums checked\n",
      "package 'scales' successfully unpacked and MD5 sums checked\n",
      "package 'ggplot2' successfully unpacked and MD5 sums checked\n",
      "\n",
      "The downloaded binary packages are in\n",
      "\tC:\\Users\\Sagnik\\AppData\\Local\\Temp\\RtmpG0xQSW\\downloaded_packages\n"
     ]
    }
   ],
   "source": [
    "install.packages('ggplot2', repos='http://cran.us.r-project.org')"
   ]
  },
  {
   "cell_type": "code",
   "execution_count": 7,
   "metadata": {
    "collapsed": false
   },
   "outputs": [
    {
     "name": "stderr",
     "output_type": "stream",
     "text": [
      "Warning message:\n",
      ": package 'ggplot2' was built under R version 3.2.5"
     ]
    }
   ],
   "source": [
    "library(ggplot2)"
   ]
  },
  {
   "cell_type": "code",
   "execution_count": 10,
   "metadata": {
    "collapsed": true
   },
   "outputs": [],
   "source": [
    "dfSF = df\n",
    "dfSea = read.csv('F:/GitHub Repos/datasci_course_materials/assignment6/seattle_incidents_summer_2014.csv',head=TRUE,sep=\",\")"
   ]
  },
  {
   "cell_type": "code",
   "execution_count": 11,
   "metadata": {
    "collapsed": false
   },
   "outputs": [
    {
     "data": {
      "text/plain": [
       "   RMS.CDW.ID      General.Offense.Number  Offense.Code  \n",
       " Min.   :  12470   Min.   :2.015e+07      2305   : 6230  \n",
       " 1st Qu.:  47246   1st Qu.:2.014e+09      X      : 3305  \n",
       " Median : 999859   Median :2.014e+09      2399   : 3034  \n",
       " Mean   : 578650   Mean   :2.020e+09      2404   : 2871  \n",
       " 3rd Qu.:1030117   3rd Qu.:2.014e+09      2903   : 1638  \n",
       " Max.   :1125252   Max.   :2.014e+11      1313   : 1368  \n",
       "                                          (Other):14333  \n",
       " Offense.Code.Extension                         Offense.Type  \n",
       " Min.   : 0.0           THEFT-CARPROWL                : 6230  \n",
       " 1st Qu.: 0.0           VEH-THEFT-AUTO                : 2588  \n",
       " Median : 0.0           THEFT-OTH                     : 2221  \n",
       " Mean   : 4.2           PROPERTY DAMAGE-NON RESIDENTIA: 1638  \n",
       " 3rd Qu.: 1.0           ASSLT-NONAGG                  : 1320  \n",
       " Max.   :98.0           DISTURBANCE-OTH               : 1295  \n",
       "                        (Other)                       :17487  \n",
       " Summary.Offense.Code Summarized.Offense.Description\n",
       " 2300   :12161        CAR PROWL      : 6230         \n",
       " X      : 3305        OTHER PROPERTY : 3755         \n",
       " 2200   : 3212        BURGLARY       : 3212         \n",
       " 2400   : 2871        VEHICLE THEFT  : 3057         \n",
       " 1300   : 2639        PROPERTY DAMAGE: 2365         \n",
       " 2900   : 2365        ASSAULT        : 2018         \n",
       " (Other): 6226        (Other)        :12142         \n",
       "                Date.Reported        Occurred.Date.or.Date.Range.Start\n",
       " 08/04/2014 07:00:00 PM:   11   07/01/2014 12:00:00 AM:   46          \n",
       " 07/10/2014 01:16:00 PM:    9   08/01/2014 12:00:00 PM:   33          \n",
       " 06/25/2014 05:26:00 PM:    8   07/25/2014 08:00:00 PM:   24          \n",
       " 07/07/2014 08:00:00 PM:    8   08/01/2014 12:00:00 AM:   23          \n",
       " 07/24/2014 11:05:00 AM:    8   06/01/2014 12:00:00 AM:   22          \n",
       " 06/19/2014 02:52:00 PM:    7   08/02/2014 12:00:00 PM:   22          \n",
       " (Other)               :32728   (Other)               :32609          \n",
       "           Occurred.Date.Range.End                  Hundred.Block.Location\n",
       "                       :16280      4XX BLOCK OF NE NORTHGATE WY:  194     \n",
       " 07/07/2014 07:00:00 AM:   21      16XX BLOCK OF 11 AV         :  138     \n",
       " 06/05/2014 08:00:00 AM:   18      5XX BLOCK OF 3 AV           :  129     \n",
       " 07/14/2014 08:00:00 AM:   17      4XX BLOCK OF PINE ST        :  119     \n",
       " 07/19/2014 09:00:00 AM:   17      84XX BLOCK OF SEAVIEW PL NW :  117     \n",
       " 06/30/2014 08:00:00 AM:   16      1XX BLOCK OF S WASHINGTON ST:  110     \n",
       " (Other)               :16410      (Other)                     :31972     \n",
       " District.Sector   Zone.Beat     Census.Tract.2000   Longitude     \n",
       " M      : 2642   E2     : 1089   Min.   :  100.1   Min.   :-122.4  \n",
       " K      : 2379   M3     :  968   1st Qu.: 4600.1   1st Qu.:-122.3  \n",
       " B      : 2338   B2     :  845   Median : 7500.4   Median :-122.3  \n",
       " N      : 2333   K2     :  841   Mean   : 6737.7   Mean   :-114.7  \n",
       " E      : 2255   M1     :  837   3rd Qu.: 9200.2   3rd Qu.:-122.3  \n",
       " J      : 2204   M2     :  837   Max.   :26500.1   Max.   :   0.0  \n",
       " (Other):18628   (Other):27362   NA's   :134                       \n",
       "    Latitude                               Location         Month      \n",
       " Min.   : 0.00   (0.0, 0.0)                    : 2050   Min.   :6.000  \n",
       " 1st Qu.:47.58   (47.7086028, -122.324615155)  :  120   1st Qu.:6.000  \n",
       " Median :47.61   (47.708602801, -122.324615156):   87   Median :7.000  \n",
       " Mean   :44.65   (47.717174472, -122.344896099):   85   Mean   :6.981  \n",
       " 3rd Qu.:47.66   (47.615838397, -122.318168851):   77   3rd Qu.:8.000  \n",
       " Max.   :47.75   (47.602412415, -122.331082197):   67   Max.   :8.000  \n",
       "                 (Other)                       :30293                  \n",
       "      Year     \n",
       " Min.   :2014  \n",
       " 1st Qu.:2014  \n",
       " Median :2014  \n",
       " Mean   :2014  \n",
       " 3rd Qu.:2014  \n",
       " Max.   :2014  \n",
       "               "
      ]
     },
     "execution_count": 11,
     "metadata": {},
     "output_type": "execute_result"
    }
   ],
   "source": [
    "summary(dfSea)"
   ]
  },
  {
   "cell_type": "code",
   "execution_count": 18,
   "metadata": {
    "collapsed": false
   },
   "outputs": [
    {
     "name": "stderr",
     "output_type": "stream",
     "text": [
      "Warning message:\n",
      "In min.default(structure(c(NA_real_, NA_real_, NA_real_, NA_real_, : no non-missing arguments to min; returning InfWarning message:\n",
      "In max.default(structure(c(NA_real_, NA_real_, NA_real_, NA_real_, : no non-missing arguments to max; returning -Inf"
     ]
    },
    {
     "ename": "ERROR",
     "evalue": "Error in seq.int(r1$mon, 12 * (to0$year - r1$year) + to0$mon, by): 'from' cannot be NA, NaN or infinite\n",
     "output_type": "error",
     "traceback": [
      "Error in seq.int(r1$mon, 12 * (to0$year - r1$year) + to0$mon, by): 'from' cannot be NA, NaN or infinite\n"
     ]
    },
    {
     "name": "stderr",
     "output_type": "stream",
     "text": [
      "Warning message:\n",
      "In min.default(structure(c(NA_real_, NA_real_, NA_real_, NA_real_, : no non-missing arguments to min; returning InfWarning message:\n",
      "In max.default(structure(c(NA_real_, NA_real_, NA_real_, NA_real_, : no non-missing arguments to max; returning -Inf"
     ]
    },
    {
     "ename": "ERROR",
     "evalue": "Error in seq.int(r1$year, to$year, by): 'from' cannot be NA, NaN or infinite\n",
     "output_type": "error",
     "traceback": [
      "Error in seq.int(r1$year, to$year, by): 'from' cannot be NA, NaN or infinite\n"
     ]
    }
   ],
   "source": [
    "dfSF$Month <- as.Date(cut(dfSF$Date,breaks=\"month\"))\n",
    "dfSF$Year <- as.Date(cut(dfSF$Date,breaks=\"year\"))"
   ]
  },
  {
   "cell_type": "code",
   "execution_count": 17,
   "metadata": {
    "collapsed": false
   },
   "outputs": [
    {
     "name": "stderr",
     "output_type": "stream",
     "text": [
      "Warning message:\n",
      ": All formats failed to parse. No formats found."
     ]
    }
   ],
   "source": [
    "dfSF$Date <- ymd_hms(dfSF$Date)"
   ]
  },
  {
   "cell_type": "code",
   "execution_count": 16,
   "metadata": {
    "collapsed": false
   },
   "outputs": [
    {
     "name": "stderr",
     "output_type": "stream",
     "text": [
      "Warning message:\n",
      ": package 'lubridate' was built under R version 3.2.5\n",
      "Attaching package: 'lubridate'\n",
      "\n",
      "The following object is masked from 'package:base':\n",
      "\n",
      "    date\n",
      "\n"
     ]
    }
   ],
   "source": [
    "library(lubridate)"
   ]
  },
  {
   "cell_type": "code",
   "execution_count": 21,
   "metadata": {
    "collapsed": false
   },
   "outputs": [
    {
     "data": {
      "text/plain": [
       "   IncidntNum                  Category                            Descript    \n",
       " Min.   : 10284385   LARCENY/THEFT :9466   GRAND THEFT FROM LOCKED AUTO: 3766  \n",
       " 1st Qu.:140545607   OTHER OFFENSES:3567   STOLEN AUTOMOBILE           : 1350  \n",
       " Median :140632022   NON-CRIMINAL  :3023   LOST PROPERTY               : 1202  \n",
       " Mean   :142017280   ASSAULT       :2882   PETTY THEFT OF PROPERTY     : 1125  \n",
       " 3rd Qu.:140719664   VEHICLE THEFT :1966   WARRANT ARREST              :  980  \n",
       " Max.   :990367398   WARRANTS      :1782   PETTY THEFT FROM LOCKED AUTO:  955  \n",
       "                     (Other)       :6307   (Other)                     :19615  \n",
       "     DayOfWeek            Date            Time           PdDistrict  \n",
       " Friday   :4451   06/28/2014:  410   12:00  :  784   SOUTHERN :5739  \n",
       " Monday   :4005   08/09/2014:  410   00:01  :  661   MISSION  :3700  \n",
       " Saturday :4319   08/08/2014:  403   18:00  :  649   NORTHERN :3589  \n",
       " Sunday   :4218   06/29/2014:  397   19:00  :  621   CENTRAL  :3513  \n",
       " Thursday :3968   08/29/2014:  388   17:00  :  594   BAYVIEW  :2725  \n",
       " Tuesday  :3930   06/04/2014:  380   20:00  :  586   INGLESIDE:2378  \n",
       " Wednesday:4102   (Other)   :26605   (Other):25098   (Other)  :7349  \n",
       "           Resolution                        Address            X         \n",
       " NONE           :19139   800 Block of BRYANT ST  :  948   Min.   :-122.5  \n",
       " ARREST, BOOKED : 6502   800 Block of MARKET ST  :  288   1st Qu.:-122.4  \n",
       " ARREST, CITED  : 1419   900 Block of POTRERO AV :  230   Median :-122.4  \n",
       " LOCATED        : 1042   1000 Block of POTRERO AV:  199   Mean   :-122.4  \n",
       " UNFOUNDED      :  260   2000 Block of MISSION ST:  149   3rd Qu.:-122.4  \n",
       " JUVENILE BOOKED:  163   16TH ST / MISSION ST    :  116   Max.   :-122.4  \n",
       " (Other)        :  468   (Other)                 :27063                   \n",
       "       Y                                          Location    \n",
       " Min.   :37.71   (37.775420706711, -122.403404791479) :  940  \n",
       " 1st Qu.:37.76   (37.7571580431915, -122.406604919508):  224  \n",
       " Median :37.78   (37.7564864109309, -122.406539115148):  196  \n",
       " Mean   :37.77   (37.7650501214668, -122.419671780296):  152  \n",
       " 3rd Qu.:37.79   (37.7841893501425, -122.407633520742):  150  \n",
       " Max.   :37.82   (37.7285280627465, -122.475647460786):  102  \n",
       "                 (Other)                              :27229  \n",
       "      PdId          \n",
       " Min.   :1.028e+12  \n",
       " 1st Qu.:1.405e+13  \n",
       " Median :1.406e+13  \n",
       " Mean   :1.420e+13  \n",
       " 3rd Qu.:1.407e+13  \n",
       " Max.   :9.904e+13  \n",
       "                    "
      ]
     },
     "execution_count": 21,
     "metadata": {},
     "output_type": "execute_result"
    }
   ],
   "source": [
    "summary(dfSF)"
   ]
  },
  {
   "cell_type": "code",
   "execution_count": 49,
   "metadata": {
    "collapsed": false
   },
   "outputs": [],
   "source": [
    "dfSF$Month<-month(as.POSIXlt(dfSF$Date, format=\"%d/%m/%Y\"))\n",
    "dfSF$Year<-year(as.POSIXlt(dfSF$Date, format=\"%d/%m/%Y\"))"
   ]
  },
  {
   "cell_type": "code",
   "execution_count": 50,
   "metadata": {
    "collapsed": false
   },
   "outputs": [
    {
     "data": {
      "text/plain": [
       "   IncidntNum                  Category                            Descript    \n",
       " Min.   : 10284385   LARCENY/THEFT :9466   GRAND THEFT FROM LOCKED AUTO: 3766  \n",
       " 1st Qu.:140545607   OTHER OFFENSES:3567   STOLEN AUTOMOBILE           : 1350  \n",
       " Median :140632022   NON-CRIMINAL  :3023   LOST PROPERTY               : 1202  \n",
       " Mean   :142017280   ASSAULT       :2882   PETTY THEFT OF PROPERTY     : 1125  \n",
       " 3rd Qu.:140719664   VEHICLE THEFT :1966   WARRANT ARREST              :  980  \n",
       " Max.   :990367398   WARRANTS      :1782   PETTY THEFT FROM LOCKED AUTO:  955  \n",
       "                     (Other)       :6307   (Other)                     :19615  \n",
       "     DayOfWeek            Date            Time           PdDistrict  \n",
       " Friday   :4451   06/28/2014:  410   12:00  :  784   SOUTHERN :5739  \n",
       " Monday   :4005   08/09/2014:  410   00:01  :  661   MISSION  :3700  \n",
       " Saturday :4319   08/08/2014:  403   18:00  :  649   NORTHERN :3589  \n",
       " Sunday   :4218   06/29/2014:  397   19:00  :  621   CENTRAL  :3513  \n",
       " Thursday :3968   08/29/2014:  388   17:00  :  594   BAYVIEW  :2725  \n",
       " Tuesday  :3930   06/04/2014:  380   20:00  :  586   INGLESIDE:2378  \n",
       " Wednesday:4102   (Other)   :26605   (Other):25098   (Other)  :7349  \n",
       "           Resolution                        Address            X         \n",
       " NONE           :19139   800 Block of BRYANT ST  :  948   Min.   :-122.5  \n",
       " ARREST, BOOKED : 6502   800 Block of MARKET ST  :  288   1st Qu.:-122.4  \n",
       " ARREST, CITED  : 1419   900 Block of POTRERO AV :  230   Median :-122.4  \n",
       " LOCATED        : 1042   1000 Block of POTRERO AV:  199   Mean   :-122.4  \n",
       " UNFOUNDED      :  260   2000 Block of MISSION ST:  149   3rd Qu.:-122.4  \n",
       " JUVENILE BOOKED:  163   16TH ST / MISSION ST    :  116   Max.   :-122.4  \n",
       " (Other)        :  468   (Other)                 :27063                   \n",
       "       Y                                          Location    \n",
       " Min.   :37.71   (37.775420706711, -122.403404791479) :  940  \n",
       " 1st Qu.:37.76   (37.7571580431915, -122.406604919508):  224  \n",
       " Median :37.78   (37.7564864109309, -122.406539115148):  196  \n",
       " Mean   :37.77   (37.7650501214668, -122.419671780296):  152  \n",
       " 3rd Qu.:37.79   (37.7841893501425, -122.407633520742):  150  \n",
       " Max.   :37.82   (37.7285280627465, -122.475647460786):  102  \n",
       "                 (Other)                              :27229  \n",
       "      PdId               Month             Year      \n",
       " Min.   :1.028e+12   Min.   : 1.000   Min.   :2014   \n",
       " 1st Qu.:1.405e+13   1st Qu.: 4.000   1st Qu.:2014   \n",
       " Median :1.406e+13   Median : 7.000   Median :2014   \n",
       " Mean   :1.420e+13   Mean   : 6.489   Mean   :2014   \n",
       " 3rd Qu.:1.407e+13   3rd Qu.: 9.000   3rd Qu.:2014   \n",
       " Max.   :9.904e+13   Max.   :12.000   Max.   :2014   \n",
       "                     NA's   :17764    NA's   :17764  "
      ]
     },
     "execution_count": 50,
     "metadata": {},
     "output_type": "execute_result"
    }
   ],
   "source": [
    "summary(dfSF)"
   ]
  },
  {
   "cell_type": "code",
   "execution_count": 51,
   "metadata": {
    "collapsed": false
   },
   "outputs": [
    {
     "data": {
      "text/plain": [
       "   RMS.CDW.ID      General.Offense.Number  Offense.Code  \n",
       " Min.   :  12470   Min.   :2.015e+07      2305   : 6230  \n",
       " 1st Qu.:  47246   1st Qu.:2.014e+09      X      : 3305  \n",
       " Median : 999859   Median :2.014e+09      2399   : 3034  \n",
       " Mean   : 578650   Mean   :2.020e+09      2404   : 2871  \n",
       " 3rd Qu.:1030117   3rd Qu.:2.014e+09      2903   : 1638  \n",
       " Max.   :1125252   Max.   :2.014e+11      1313   : 1368  \n",
       "                                          (Other):14333  \n",
       " Offense.Code.Extension                         Offense.Type  \n",
       " Min.   : 0.0           THEFT-CARPROWL                : 6230  \n",
       " 1st Qu.: 0.0           VEH-THEFT-AUTO                : 2588  \n",
       " Median : 0.0           THEFT-OTH                     : 2221  \n",
       " Mean   : 4.2           PROPERTY DAMAGE-NON RESIDENTIA: 1638  \n",
       " 3rd Qu.: 1.0           ASSLT-NONAGG                  : 1320  \n",
       " Max.   :98.0           DISTURBANCE-OTH               : 1295  \n",
       "                        (Other)                       :17487  \n",
       " Summary.Offense.Code Summarized.Offense.Description\n",
       " 2300   :12161        CAR PROWL      : 6230         \n",
       " X      : 3305        OTHER PROPERTY : 3755         \n",
       " 2200   : 3212        BURGLARY       : 3212         \n",
       " 2400   : 2871        VEHICLE THEFT  : 3057         \n",
       " 1300   : 2639        PROPERTY DAMAGE: 2365         \n",
       " 2900   : 2365        ASSAULT        : 2018         \n",
       " (Other): 6226        (Other)        :12142         \n",
       "                Date.Reported        Occurred.Date.or.Date.Range.Start\n",
       " 08/04/2014 07:00:00 PM:   11   07/01/2014 12:00:00 AM:   46          \n",
       " 07/10/2014 01:16:00 PM:    9   08/01/2014 12:00:00 PM:   33          \n",
       " 06/25/2014 05:26:00 PM:    8   07/25/2014 08:00:00 PM:   24          \n",
       " 07/07/2014 08:00:00 PM:    8   08/01/2014 12:00:00 AM:   23          \n",
       " 07/24/2014 11:05:00 AM:    8   06/01/2014 12:00:00 AM:   22          \n",
       " 06/19/2014 02:52:00 PM:    7   08/02/2014 12:00:00 PM:   22          \n",
       " (Other)               :32728   (Other)               :32609          \n",
       "           Occurred.Date.Range.End                  Hundred.Block.Location\n",
       "                       :16280      4XX BLOCK OF NE NORTHGATE WY:  194     \n",
       " 07/07/2014 07:00:00 AM:   21      16XX BLOCK OF 11 AV         :  138     \n",
       " 06/05/2014 08:00:00 AM:   18      5XX BLOCK OF 3 AV           :  129     \n",
       " 07/14/2014 08:00:00 AM:   17      4XX BLOCK OF PINE ST        :  119     \n",
       " 07/19/2014 09:00:00 AM:   17      84XX BLOCK OF SEAVIEW PL NW :  117     \n",
       " 06/30/2014 08:00:00 AM:   16      1XX BLOCK OF S WASHINGTON ST:  110     \n",
       " (Other)               :16410      (Other)                     :31972     \n",
       " District.Sector   Zone.Beat     Census.Tract.2000   Longitude     \n",
       " M      : 2642   E2     : 1089   Min.   :  100.1   Min.   :-122.4  \n",
       " K      : 2379   M3     :  968   1st Qu.: 4600.1   1st Qu.:-122.3  \n",
       " B      : 2338   B2     :  845   Median : 7500.4   Median :-122.3  \n",
       " N      : 2333   K2     :  841   Mean   : 6737.7   Mean   :-114.7  \n",
       " E      : 2255   M1     :  837   3rd Qu.: 9200.2   3rd Qu.:-122.3  \n",
       " J      : 2204   M2     :  837   Max.   :26500.1   Max.   :   0.0  \n",
       " (Other):18628   (Other):27362   NA's   :134                       \n",
       "    Latitude                               Location         Month      \n",
       " Min.   : 0.00   (0.0, 0.0)                    : 2050   Min.   :6.000  \n",
       " 1st Qu.:47.58   (47.7086028, -122.324615155)  :  120   1st Qu.:6.000  \n",
       " Median :47.61   (47.708602801, -122.324615156):   87   Median :7.000  \n",
       " Mean   :44.65   (47.717174472, -122.344896099):   85   Mean   :6.981  \n",
       " 3rd Qu.:47.66   (47.615838397, -122.318168851):   77   3rd Qu.:8.000  \n",
       " Max.   :47.75   (47.602412415, -122.331082197):   67   Max.   :8.000  \n",
       "                 (Other)                       :30293                  \n",
       "      Year     \n",
       " Min.   :2014  \n",
       " 1st Qu.:2014  \n",
       " Median :2014  \n",
       " Mean   :2014  \n",
       " 3rd Qu.:2014  \n",
       " Max.   :2014  \n",
       "               "
      ]
     },
     "execution_count": 51,
     "metadata": {},
     "output_type": "execute_result"
    },
    {
     "data": {
      "text/plain": [
       "   IncidntNum                  Category                            Descript    \n",
       " Min.   : 10284385   LARCENY/THEFT :9466   GRAND THEFT FROM LOCKED AUTO: 3766  \n",
       " 1st Qu.:140545607   OTHER OFFENSES:3567   STOLEN AUTOMOBILE           : 1350  \n",
       " Median :140632022   NON-CRIMINAL  :3023   LOST PROPERTY               : 1202  \n",
       " Mean   :142017280   ASSAULT       :2882   PETTY THEFT OF PROPERTY     : 1125  \n",
       " 3rd Qu.:140719664   VEHICLE THEFT :1966   WARRANT ARREST              :  980  \n",
       " Max.   :990367398   WARRANTS      :1782   PETTY THEFT FROM LOCKED AUTO:  955  \n",
       "                     (Other)       :6307   (Other)                     :19615  \n",
       "     DayOfWeek            Date            Time           PdDistrict  \n",
       " Friday   :4451   06/28/2014:  410   12:00  :  784   SOUTHERN :5739  \n",
       " Monday   :4005   08/09/2014:  410   00:01  :  661   MISSION  :3700  \n",
       " Saturday :4319   08/08/2014:  403   18:00  :  649   NORTHERN :3589  \n",
       " Sunday   :4218   06/29/2014:  397   19:00  :  621   CENTRAL  :3513  \n",
       " Thursday :3968   08/29/2014:  388   17:00  :  594   BAYVIEW  :2725  \n",
       " Tuesday  :3930   06/04/2014:  380   20:00  :  586   INGLESIDE:2378  \n",
       " Wednesday:4102   (Other)   :26605   (Other):25098   (Other)  :7349  \n",
       "           Resolution                        Address            X         \n",
       " NONE           :19139   800 Block of BRYANT ST  :  948   Min.   :-122.5  \n",
       " ARREST, BOOKED : 6502   800 Block of MARKET ST  :  288   1st Qu.:-122.4  \n",
       " ARREST, CITED  : 1419   900 Block of POTRERO AV :  230   Median :-122.4  \n",
       " LOCATED        : 1042   1000 Block of POTRERO AV:  199   Mean   :-122.4  \n",
       " UNFOUNDED      :  260   2000 Block of MISSION ST:  149   3rd Qu.:-122.4  \n",
       " JUVENILE BOOKED:  163   16TH ST / MISSION ST    :  116   Max.   :-122.4  \n",
       " (Other)        :  468   (Other)                 :27063                   \n",
       "       Y                                          Location    \n",
       " Min.   :37.71   (37.775420706711, -122.403404791479) :  940  \n",
       " 1st Qu.:37.76   (37.7571580431915, -122.406604919508):  224  \n",
       " Median :37.78   (37.7564864109309, -122.406539115148):  196  \n",
       " Mean   :37.77   (37.7650501214668, -122.419671780296):  152  \n",
       " 3rd Qu.:37.79   (37.7841893501425, -122.407633520742):  150  \n",
       " Max.   :37.82   (37.7285280627465, -122.475647460786):  102  \n",
       "                 (Other)                              :27229  \n",
       "      PdId               Month             Year      \n",
       " Min.   :1.028e+12   Min.   : 1.000   Min.   :2014   \n",
       " 1st Qu.:1.405e+13   1st Qu.: 4.000   1st Qu.:2014   \n",
       " Median :1.406e+13   Median : 7.000   Median :2014   \n",
       " Mean   :1.420e+13   Mean   : 6.489   Mean   :2014   \n",
       " 3rd Qu.:1.407e+13   3rd Qu.: 9.000   3rd Qu.:2014   \n",
       " Max.   :9.904e+13   Max.   :12.000   Max.   :2014   \n",
       "                     NA's   :17764    NA's   :17764  "
      ]
     },
     "execution_count": 51,
     "metadata": {},
     "output_type": "execute_result"
    }
   ],
   "source": [
    "summary(dfSea)\n",
    "summary(dfSF)"
   ]
  },
  {
   "cell_type": "code",
   "execution_count": null,
   "metadata": {
    "collapsed": true
   },
   "outputs": [],
   "source": []
  }
 ],
 "metadata": {
  "kernelspec": {
   "display_name": "R",
   "language": "R",
   "name": "ir"
  },
  "language_info": {
   "codemirror_mode": "r",
   "file_extension": ".r",
   "mimetype": "text/x-r-source",
   "name": "R",
   "pygments_lexer": "r",
   "version": "3.2.4"
  }
 },
 "nbformat": 4,
 "nbformat_minor": 0
}
